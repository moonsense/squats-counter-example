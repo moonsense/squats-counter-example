{
 "cells": [
  {
   "cell_type": "code",
   "execution_count": null,
   "metadata": {
    "collapsed": true,
    "pycharm": {
     "is_executing": true
    }
   },
   "outputs": [],
   "source": [
    "import functools\n",
    "import operator\n",
    "import pandas as pd\n",
    "from moonsense.client import Client\n",
    "import dotenv\n",
    "import os\n",
    "\n",
    "# load environment variables from .env file\n",
    "dotenv.load_dotenv()\n",
    "client = Client(secret_token=os.environ['MOONSENSE_SECRET'])\n",
    "\n",
    "\n",
    "def read_accelerometer(session_file) -> pd.DataFrame:\n",
    "    df = pd.read_json(session_file, lines=True)\n",
    "    accelerometer_data = functools.reduce(\n",
    "        operator.iconcat,\n",
    "        df[\"bundle\"].apply(pd.Series)[\"accelerometer_data\"].tolist(),\n",
    "        [],\n",
    "    )\n",
    "    df = pd.DataFrame(accelerometer_data).rename(columns={\"determined_at\": \"at\"})\n",
    "    df[\"at\"] = pd.to_datetime(df[\"at\"], unit=\"ms\")\n",
    "    return df.set_index(\"at\").sort_index()"
   ]
  },
  {
   "cell_type": "code",
   "execution_count": null,
   "outputs": [],
   "source": [
    "sessions = client.list_sessions()"
   ],
   "metadata": {
    "collapsed": false,
    "pycharm": {
     "name": "#%%\n"
    }
   }
  },
  {
   "cell_type": "code",
   "execution_count": null,
   "outputs": [],
   "source": [
    "print(sessions)"
   ],
   "metadata": {
    "collapsed": false,
    "pycharm": {
     "name": "#%%\n"
    }
   }
  },
  {
   "cell_type": "code",
   "execution_count": null,
   "outputs": [],
   "source": [],
   "metadata": {
    "collapsed": false,
    "pycharm": {
     "name": "#%%\n"
    }
   }
  }
 ],
 "metadata": {
  "kernelspec": {
   "display_name": "Python 3",
   "language": "python",
   "name": "python3"
  },
  "language_info": {
   "codemirror_mode": {
    "name": "ipython",
    "version": 2
   },
   "file_extension": ".py",
   "mimetype": "text/x-python",
   "name": "python",
   "nbconvert_exporter": "python",
   "pygments_lexer": "ipython2",
   "version": "2.7.6"
  }
 },
 "nbformat": 4,
 "nbformat_minor": 0
}